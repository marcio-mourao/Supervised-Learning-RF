{
 "cells": [
  {
   "cell_type": "markdown",
   "metadata": {
    "nbpresent": {
     "id": "f77e2465-07f3-4ad0-ab0b-970cc19da161"
    }
   },
   "source": [
    "# <center> RANDOM FORESTS <br/>\n",
    "## <center> CSCAR WORKSHOP - Data Science Skills Series <br/><br/> 10/20/2017\n",
    "### <center> Marcio Mourao\n"
   ]
  },
  {
   "cell_type": "markdown",
   "metadata": {},
   "source": [
    "# <center> Setup for Anaconda / Jupyter Notebook\n",
    "\n",
    "<ul>\n",
    "    <li>Go to the page https://marcio-mourao.github.io/</li>\n",
    "    <li>Download the materials under \"Supervised Machine Learning in Python using Scikit-Learn (Random Forests)\" to your \"username/Documents\"</li><br/>\n",
    "    \n",
    "    <li>Click the Windows button (Bottom Left Corner)</li>\n",
    "    <li>Click \"All apps\"</li>\n",
    "    <li>Click \"Anaconda3 (64-bit)\"</li>\n",
    "    <li>Click \"Anaconda Prompt\" </li>\n",
    "    <li>Enter \"conda update scikit-learn\"</li><br/>\n",
    "    \n",
    "    <li>Click the Windows button (Bottom Left Corner)</li>\n",
    "    <li>Click \"All apps\"</li>\n",
    "    <li>Click \"Anaconda3 (64-bit)\"</li>\n",
    "    <li>Click \"Jupyter Notebook\" </li><br/>\n",
    "    \n",
    "    <li>Click \"Workshop.ipynb\" (this should open a new tab in the browser)</li>\n",
    "</ul>"
   ]
  },
  {
   "cell_type": "markdown",
   "metadata": {},
   "source": [
    "# <center> Introduction\n",
    "\n",
    "<ul>\n",
    "  <li>Please, sign up the sheet! </li>\n",
    "  <li>Don't forget to go to: http://cscar.research.umich.edu/ to know what we're offering</li>\n",
    "  <li>Any questions/comments, feel free to email me: mdam@umich.edu</li>\n",
    "</ul>"
   ]
  },
  {
   "cell_type": "markdown",
   "metadata": {},
   "source": [
    "# <center> References\n",
    "\n",
    "<ul>\n",
    "  <li>https://www.continuum.io/anaconda-overview</li>\n",
    "  <li>http://www.numpy.org/</li>\n",
    "  <li>http://pandas.pydata.org/pandas-docs/stable/generated/pandas.DataFrame.html</li>\n",
    "  <li>http://matplotlib.org/</li>\n",
    "  <li>http://pandas.pydata.org/pandas-docs/stable/10min.html</li>\n",
    "  <li>http://scikit-learn.org/stable/</li>\n",
    "  <li>http://statsmodels.sourceforge.net/</li>\n",
    "</ul>"
   ]
  },
  {
   "cell_type": "markdown",
   "metadata": {},
   "source": [
    "# <center> Summary of this workshop\n",
    "\n",
    "<ul>\n",
    "  <li>Using Random Forests on the Iris dataset (first part) and on the 1994 census dataset (second part)</li>\n",
    "  <ul>\n",
    "     <li>Brief description of the dataset</li>\n",
    "     <li>Load and describe the data (using Pandas dataframes)</li>\n",
    "     <li>Machine Learning - Random Forests</li>\n",
    "  </ul>\n",
    "</ul>\n"
   ]
  },
  {
   "cell_type": "markdown",
   "metadata": {},
   "source": [
    "## Some info about the dataset"
   ]
  },
  {
   "cell_type": "markdown",
   "metadata": {},
   "source": [
    "This data sets consists of 3 different types of irises: Setosa, Versicolour, and Virginica; \n",
    "\n",
    "The data is stored in a 150x4 numpy.ndarray;\n",
    "\n",
    "Rows correspond to samples and the columns to: Sepal Length, Sepal Width, Petal Length and Petal Width.\n",
    "\n",
    "For additional information: https://en.wikipedia.org/wiki/Iris_flower_data_set"
   ]
  },
  {
   "cell_type": "code",
   "execution_count": null,
   "metadata": {
    "collapsed": false
   },
   "outputs": [],
   "source": [
    "#Check Python version\n",
    "import sys\n",
    "print(sys.version)"
   ]
  },
  {
   "cell_type": "markdown",
   "metadata": {},
   "source": [
    "## Import relevant general modules"
   ]
  },
  {
   "cell_type": "code",
   "execution_count": null,
   "metadata": {
    "collapsed": false
   },
   "outputs": [],
   "source": [
    "#Load some relevant modules\n",
    "%matplotlib inline\n",
    "import numpy as np\n",
    "import pandas as pd\n",
    "import matplotlib.pyplot as plt"
   ]
  },
  {
   "cell_type": "markdown",
   "metadata": {},
   "source": [
    "## Load and describe the data"
   ]
  },
  {
   "cell_type": "code",
   "execution_count": null,
   "metadata": {
    "collapsed": true
   },
   "outputs": [],
   "source": [
    "#Load the iris dataset\n",
    "from sklearn.datasets import load_iris"
   ]
  },
  {
   "cell_type": "code",
   "execution_count": null,
   "metadata": {
    "collapsed": false
   },
   "outputs": [],
   "source": [
    "# Create an object called iris with the iris data\n",
    "iris = load_iris()\n",
    "iris"
   ]
  },
  {
   "cell_type": "code",
   "execution_count": null,
   "metadata": {
    "collapsed": false
   },
   "outputs": [],
   "source": [
    "#Create a dataframe with the four feature variables\n",
    "flowers = pd.DataFrame(iris.data, columns=iris.feature_names)\n",
    "flowers.head()"
   ]
  },
  {
   "cell_type": "code",
   "execution_count": null,
   "metadata": {
    "collapsed": false
   },
   "outputs": [],
   "source": [
    "#Add a new column with the species names, this is what we are going to try to predict\n",
    "flowers['species'] = pd.Categorical.from_codes(iris.target, iris.target_names)\n",
    "flowers.head()"
   ]
  },
  {
   "cell_type": "code",
   "execution_count": null,
   "metadata": {
    "collapsed": false
   },
   "outputs": [],
   "source": [
    "#Obtain number of observations and number of features in the data\n",
    "flowers.shape"
   ]
  },
  {
   "cell_type": "markdown",
   "metadata": {},
   "source": [
    "## Machine Learning"
   ]
  },
  {
   "cell_type": "code",
   "execution_count": null,
   "metadata": {
    "collapsed": false
   },
   "outputs": [],
   "source": [
    "#Import modules\n",
    "from sklearn.ensemble import RandomForestClassifier\n",
    "from sklearn.model_selection import train_test_split, KFold, cross_val_score\n",
    "from sklearn import metrics"
   ]
  },
  {
   "cell_type": "code",
   "execution_count": null,
   "metadata": {
    "collapsed": false
   },
   "outputs": [],
   "source": [
    "#Define covariates in X and dependent variable in y\n",
    "X = flowers.iloc[:,0:4]\n",
    "y = flowers.species"
   ]
  },
  {
   "cell_type": "code",
   "execution_count": null,
   "metadata": {
    "collapsed": false
   },
   "outputs": [],
   "source": [
    "#Obtain the data for the fitting\n",
    "X_train, X_test, y_train, y_test = train_test_split(X, y, random_state=13)\n",
    "\n",
    "print('Total number of records: ', flowers.shape[0])\n",
    "print('Type of X_train: ', type(X_train))\n",
    "print('Number of records in X_train: ', len(X_train))\n",
    "print('Fraction on X_train: ', len(X_train)/flowers.shape[0])\n",
    "print('Number of records in y_train: ', len(y_train))\n",
    "print('Type of y_train: \\n\\n', type(y_train))\n",
    "\n",
    "print('Type of X_test: ', type(X_test))\n",
    "print('Number of records in X_test: ', len(X_test))\n",
    "print('Fraction on X_test: ', len(X_test)/flowers.shape[0])\n",
    "print('Number of records in y_test: ', len(y_test))\n",
    "print('Type of y_test: ', type(y_test))"
   ]
  },
  {
   "cell_type": "code",
   "execution_count": null,
   "metadata": {
    "collapsed": false
   },
   "outputs": [],
   "source": [
    "#Creates a RF classification model\n",
    "RF_model = RandomForestClassifier(n_estimators=10, criterion='gini')\n",
    "\n",
    "#Fit to the data\n",
    "RF_model.fit(X_train, y_train)"
   ]
  },
  {
   "cell_type": "code",
   "execution_count": null,
   "metadata": {
    "collapsed": false
   },
   "outputs": [],
   "source": [
    "#Obtain class predictions\n",
    "y_pred_RF_prob = RF_model.predict_proba(X_test)\n",
    "print('Predicted probabilities: \\n', y_pred_RF_prob)\n",
    "\n",
    "#Obtain probability predictions\n",
    "y_pred_RF_class = RF_model.predict(X_test)\n",
    "print('Predicted classes: \\n', y_pred_RF_class)"
   ]
  },
  {
   "cell_type": "code",
   "execution_count": null,
   "metadata": {
    "collapsed": false
   },
   "outputs": [],
   "source": [
    "#Obtains accuracy score\n",
    "print('RF Score: ', metrics.accuracy_score(y_test, y_pred_RF_class))"
   ]
  },
  {
   "cell_type": "code",
   "execution_count": null,
   "metadata": {
    "collapsed": false
   },
   "outputs": [],
   "source": [
    "#Obtains confusion matrix\n",
    "RF_cm=metrics.confusion_matrix(y_test,y_pred_RF_class)\n",
    "RF_cm"
   ]
  },
  {
   "cell_type": "code",
   "execution_count": null,
   "metadata": {
    "collapsed": false
   },
   "outputs": [],
   "source": [
    "#Capture feature importance from the RF model\n",
    "feature_imp=RF_model.feature_importances_\n",
    "\n",
    "#Create plot of feature importance\n",
    "positions = np.arange(len(feature_imp))\n",
    "plt.barh(positions, feature_imp, align='center')\n",
    "plt.xlabel(\"Feature Importances\")\n",
    "plt.ylabel(\"Features\")\n",
    "plt.yticks(positions, ('Sepal Length','Sepal Width','Petal Length','Petal Width'))\n",
    "plt.grid(True)"
   ]
  },
  {
   "cell_type": "code",
   "execution_count": null,
   "metadata": {
    "collapsed": false
   },
   "outputs": [],
   "source": [
    "#KFolds and Cross_val_scores\n",
    "kf = KFold(n_splits=10, shuffle=True)\n",
    "print('Cross validation score: ', cross_val_score(RF_model, X, y, cv=kf).mean())"
   ]
  }
 ],
 "metadata": {
  "anaconda-cloud": {},
  "kernelspec": {
   "display_name": "Python [conda root]",
   "language": "python",
   "name": "conda-root-py"
  },
  "language_info": {
   "codemirror_mode": {
    "name": "ipython",
    "version": 3
   },
   "file_extension": ".py",
   "mimetype": "text/x-python",
   "name": "python",
   "nbconvert_exporter": "python",
   "pygments_lexer": "ipython3",
   "version": "3.5.3"
  },
  "nbpresent": {
   "slides": {
    "8ce21dab-2b7a-439c-8f0a-8a1036a1ac0d": {
     "id": "8ce21dab-2b7a-439c-8f0a-8a1036a1ac0d",
     "prev": null,
     "regions": {
      "d8401624-efe9-4853-a676-de863b4ba3cd": {
       "attrs": {
        "height": 1,
        "width": 1,
        "x": 0,
        "y": 0
       },
       "id": "d8401624-efe9-4853-a676-de863b4ba3cd"
      }
     },
     "theme": null
    }
   },
   "themes": {}
  }
 },
 "nbformat": 4,
 "nbformat_minor": 1
}
